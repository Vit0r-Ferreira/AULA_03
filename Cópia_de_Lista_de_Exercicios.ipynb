{
  "nbformat": 4,
  "nbformat_minor": 0,
  "metadata": {
    "colab": {
      "provenance": [],
      "authorship_tag": "ABX9TyPr7xsQQeQg8x8SDwWkPiPT",
      "include_colab_link": true
    },
    "kernelspec": {
      "name": "python3",
      "display_name": "Python 3"
    },
    "language_info": {
      "name": "python"
    }
  },
  "cells": [
    {
      "cell_type": "markdown",
      "metadata": {
        "id": "view-in-github",
        "colab_type": "text"
      },
      "source": [
        "<a href=\"https://colab.research.google.com/github/Vit0r-Ferreira/AULA_03/blob/main/C%C3%B3pia_de_Lista_de_Exercicios.ipynb\" target=\"_parent\"><img src=\"https://colab.research.google.com/assets/colab-badge.svg\" alt=\"Open In Colab\"/></a>"
      ]
    },
    {
      "cell_type": "code",
      "execution_count": null,
      "metadata": {
        "id": "H9lOMV5rsc2O"
      },
      "outputs": [],
      "source": [
        "#Atividade 1\n",
        "vetor=[]\n",
        "n=int(input('Digite a quantidade de elementos deste vetor: '))\n",
        "for i in range(n):\n",
        "  elemento=str(input(\"Digite quais sao os elementos nesse vetor: \"))\n",
        "  vetor.append(elemento)\n",
        "print(vetor)"
      ]
    },
    {
      "cell_type": "code",
      "source": [
        "#Atividade 2\n",
        "vetor = []\n",
        "n = int(input('Digite a quantidade de números (elementos) deste vetor: '))\n",
        "\n",
        "for i in range(n):\n",
        "    elemento = int(input(\"Digite quais são os números (elementos) nesse vetor: \"))\n",
        "    vetor.append(elemento)\n",
        "\n",
        "maior = max(vetor)\n",
        "menor = min(vetor)\n",
        "soma = sum(vetor)\n",
        "media = soma / len(vetor)\n",
        "\n",
        "print(vetor)\n",
        "print(f\"{maior} é o maior número desse vetor\")\n",
        "print(f\"{menor} é o menor número desse vetor\")"
      ],
      "metadata": {
        "id": "_Ac_OAefy6_p"
      },
      "execution_count": null,
      "outputs": []
    },
    {
      "cell_type": "code",
      "source": [
        "#Atividade 3\n",
        "vetor = []\n",
        "n = int(input('Digite a quantidade de números (elementos) deste vetor: '))\n",
        "\n",
        "for i in range(n):\n",
        "    elemento = int(input(\"Digite quais são os números (elementos) nesse vetor: \"))\n",
        "    vetor.append(elemento)\n",
        "\n",
        "maior = max(vetor)\n",
        "menor = min(vetor)\n",
        "soma = sum(vetor)\n",
        "media = soma / len(vetor)\n",
        "\n",
        "print(vetor)\n",
        "print(f\"{maior} é o maior número desse vetor\")\n",
        "print(f\"{menor} é o menor número desse vetor\")\n",
        "print(f\"{media:.2f} é a média dos números\")"
      ],
      "metadata": {
        "id": "qsIFRH97024p"
      },
      "execution_count": null,
      "outputs": []
    },
    {
      "cell_type": "code",
      "source": [
        "#Atividade 4\n",
        "def inverter_vetor(vetor):\n",
        "    tamanho = len(vetor)\n",
        "    for i in range(tamanho // 2):\n",
        "        vetor[i], vetor[tamanho - i - 1] = vetor[tamanho - i - 1], vetor[i]\n",
        "vetor = []\n",
        "n = int(input(\"Quantos números você quer inserir? \"))\n",
        "for i in range(n):\n",
        "    elemento = int(input(\"Digite o número: \"))\n",
        "    vetor.append(elemento)\n",
        "inverter_vetor(vetor)\n",
        "print(\"Vetor invertido:\", vetor)"
      ],
      "metadata": {
        "id": "6Wo6nVsb6WVR"
      },
      "execution_count": null,
      "outputs": []
    },
    {
      "cell_type": "code",
      "source": [
        "#Atividade 5\n",
        "def pesquisa_linear(lista, elemento):\n",
        "    for i in range(len(lista)):\n",
        "        if lista[i] == elemento:\n",
        "            return i\n",
        "    return -1\n",
        "\n",
        "lista = []\n",
        "n = int(input(\"Quantos números você quer inserir? \"))\n",
        "\n",
        "for i in range(n):\n",
        "    elemento = int(input(\"Digite o número: \"))\n",
        "    lista.append(elemento)\n",
        "\n",
        "elemento_desejado = int(input(\"Digite o número que deseja pesquisar: \"))\n",
        "\n",
        "posicao = pesquisa_linear(lista, elemento_desejado)\n",
        "\n",
        "if posicao != -1:\n",
        "    print(f\"O elemento {elemento_desejado} está na posição {posicao}.\")\n",
        "else:\n",
        "    print(f\"O elemento {elemento_desejado} não está na lista.\")"
      ],
      "metadata": {
        "id": "9yk28MjKADOA"
      },
      "execution_count": null,
      "outputs": []
    },
    {
      "cell_type": "code",
      "source": [
        "#Atividade 6\n",
        "def selecionar_pares(vetor):\n",
        "\n",
        "    pares = [x for x in vetor if x % 2 == 0]\n",
        "    return pares\n",
        "\n",
        "vetor = []\n",
        "n = int(input(\"Quantos números você quer inserir? \"))\n",
        "\n",
        "for i in range(n):\n",
        "    elemento = int(input(\"Digite o número: \"))\n",
        "    vetor.append(elemento)\n",
        "\n",
        "pares = selecionar_pares(vetor)\n",
        "\n",
        "print(\"Elementos pares do vetor:\", pares)"
      ],
      "metadata": {
        "id": "0gnvlO6jCLc3"
      },
      "execution_count": null,
      "outputs": []
    },
    {
      "cell_type": "code",
      "source": [
        "#Atividade 7\n",
        "def selecionar_pares(vetor):\n",
        "    pares = [x for x in vetor if x % 2 == 0]\n",
        "    return pares\n",
        "\n",
        "vetor = []\n",
        "n = int(input(\"Quantos números você quer inserir? \"))\n",
        "\n",
        "for i in range(n):\n",
        "    elemento = int(input(\"Digite o número: \"))\n",
        "    vetor.append(elemento)\n",
        "\n",
        "pares_vetor = selecionar_pares(vetor)\n",
        "print(\"Elementos pares do vetor:\", pares_vetor)\n",
        "\n",
        "segundo_vetor = pares_vetor[:]\n",
        "print(\"Segundo vetor com pares:\", segundo_vetor)"
      ],
      "metadata": {
        "id": "0MFVKFr9EC6n"
      },
      "execution_count": null,
      "outputs": []
    },
    {
      "cell_type": "code",
      "source": [
        "#Atividade 8\n",
        "vetor1 = []\n",
        "n = int(input(\"Digite a quantidade de números para o primeiro vetor: \"))\n",
        "print(\"Digite os números para o primeiro vetor:\")\n",
        "for i in range(n):\n",
        "    elemento = int(input(\"Digite um número: \"))\n",
        "    vetor1.append(elemento)\n",
        "\n",
        "vetor2 = []\n",
        "print(\"\\nAgora, digite os números para o segundo vetor:\")\n",
        "for i in range(n):\n",
        "    elemento = int(input(\"Digite um número: \"))\n",
        "    vetor2.append(elemento)\n",
        "\n",
        "vetor_intercalado = [item for sublist in zip(vetor1, vetor2) for item in sublist]\n",
        "\n",
        "print(\"\\nVetor intercalado:\", vetor_intercalado)"
      ],
      "metadata": {
        "id": "JYA9L2RvFGMo"
      },
      "execution_count": null,
      "outputs": []
    },
    {
      "cell_type": "code",
      "source": [
        "#Atividade 9\n",
        "\n",
        "pacientes_leves = int(input(\"Número de pacientes com sintomas leves: \"))\n",
        "pacientes_assintomaticos = int(input(\"Número de pacientes assintomáticos: \"))\n",
        "pacientes_graves = int(input(\"Número de pacientes com sintomas graves: \"))\n",
        "\n",
        "total_pacientes = pacientes_leves + pacientes_assintomaticos + pacientes_graves\n",
        "\n",
        "porcentagem_leves = (pacientes_leves / total_pacientes) * 100\n",
        "porcentagem_assintomaticos = (pacientes_assintomaticos / total_pacientes) * 100\n",
        "porcentagem_graves = (pacientes_graves / total_pacientes) * 100\n",
        "\n",
        "print(\"Porcentagem de pacientes com sintomas leves:\", porcentagem_leves, \"%\")\n",
        "print(\"Porcentagem de pacientes assintomáticos:\", porcentagem_assintomaticos, \"%\")\n",
        "print(\"Porcentagem de pacientes com sintomas graves:\", porcentagem_graves, \"%\")"
      ],
      "metadata": {
        "id": "jwwZCAd4G0O-"
      },
      "execution_count": null,
      "outputs": []
    }
  ]
}